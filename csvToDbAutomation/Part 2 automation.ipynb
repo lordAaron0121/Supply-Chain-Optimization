{
 "cells": [
  {
   "cell_type": "markdown",
   "id": "8d24b2aa",
   "metadata": {},
   "source": [
    "In the previous part, we were **manually** executing the tasks below on a **single CSV file**:\n",
    "- Import a CSV file into a Pandas df\n",
    "- Clean the table name and remove extra symbols, spaces, capital letters\n",
    "- Clean the column names and remove extra symbols, spaces, capital letters\n",
    "- Write the create table SQL statement\n",
    "- Connect to the database\n",
    "- Drop tables with same name (avoid conflicts)\n",
    "- Create table\n",
    "- Save dafaframe to CSV\n",
    "- Open the CSV file and save it as an object\n",
    "- Upload to database\n",
    "\n",
    "Our goal in this notebook is to **automate everything (using for-loops) and handle multiple CSV files**."
   ]
  },
  {
   "cell_type": "code",
   "execution_count": 1,
   "id": "dd2ba907",
   "metadata": {},
   "outputs": [],
   "source": [
    "import os\n",
    "import numpy as sp\n",
    "import pandas as pd\n",
    "import mysql.connector as mysql"
   ]
  },
  {
   "cell_type": "markdown",
   "id": "ff7f6130",
   "metadata": {},
   "source": [
    "### Find only CSV files in current directory "
   ]
  },
  {
   "cell_type": "code",
   "execution_count": 2,
   "id": "016e2d83",
   "metadata": {},
   "outputs": [
    {
     "data": {
      "text/plain": [
       "['Customer Contracts$.csv', 'Customer Demo.csv', 'Customer Engagements.csv']"
      ]
     },
     "execution_count": 2,
     "metadata": {},
     "output_type": "execute_result"
    }
   ],
   "source": [
    "csv_files = []\n",
    "for file in os.listdir():\n",
    "    if file.endswith('.csv'):\n",
    "        csv_files.append(file)\n",
    "csv_files"
   ]
  },
  {
   "cell_type": "markdown",
   "id": "083d124f",
   "metadata": {},
   "source": [
    "### Create a new directory"
   ]
  },
  {
   "cell_type": "code",
   "execution_count": 3,
   "id": "1421e3d0",
   "metadata": {},
   "outputs": [],
   "source": [
    "dataset_dir = 'datasets'\n",
    "try:\n",
    "    mkdir = 'mkdir {0}'.format(dataset_dir)\n",
    "    os.system(mkdir)\n",
    "except:\n",
    "    pass"
   ]
  },
  {
   "cell_type": "markdown",
   "id": "238b8c1b",
   "metadata": {},
   "source": [
    "### Move them to a new directory"
   ]
  },
  {
   "cell_type": "code",
   "execution_count": 4,
   "id": "0d9ce3e9",
   "metadata": {},
   "outputs": [],
   "source": [
    "import shutil\n",
    "source = \"C:/Users/User/OneDrive - Nanyang Technological University/CSV to DB automation/\"\n",
    "destination = \"C:/Users/User/OneDrive - Nanyang Technological University/CSV to DB automation/datasets/\"\n",
    "\n",
    "for file in csv_files:\n",
    "    shutil.move(source + file, destination + file)"
   ]
  },
  {
   "cell_type": "markdown",
   "id": "904300ce",
   "metadata": {},
   "source": [
    "### Create Pandas dataframes from the CSV files"
   ]
  },
  {
   "cell_type": "code",
   "execution_count": 5,
   "id": "eab79878",
   "metadata": {},
   "outputs": [
    {
     "name": "stdout",
     "output_type": "stream",
     "text": [
      "Dataframes have been created for the following file(s):\n",
      "Customer Contracts$.csv\n",
      "Customer Demo.csv\n",
      "Customer Engagements.csv\n"
     ]
    }
   ],
   "source": [
    "data_path = os.getcwd() + \"/\" + dataset_dir + \"/\"\n",
    "df = {}\n",
    "print(\"Dataframes have been created for the following file(s):\")\n",
    "for file in csv_files:\n",
    "    try:\n",
    "        df[file] = pd.read_csv(data_path + file)\n",
    "    except UnicodeDecodeError:\n",
    "        df[file] = pd.read_csv(data_path + file, encoding = \"ISO-8859-1\")\n",
    "    print(file)"
   ]
  },
  {
   "cell_type": "markdown",
   "id": "7d131592",
   "metadata": {},
   "source": [
    "### Clean the name of each tables and column headers (remove extra symbols, spaces, capital letters)"
   ]
  },
  {
   "cell_type": "code",
   "execution_count": 6,
   "id": "3659ecad",
   "metadata": {},
   "outputs": [],
   "source": [
    "replacements = {\n",
    "    'object': 'VARCHAR(255)',\n",
    "    'float64': 'FLOAT',\n",
    "    'int64': 'INT',\"\"\n",
    "    'datetime64': 'DATETIME',\n",
    "    'timedelta64[ns]': 'VARCHAR(255)'\n",
    "}"
   ]
  },
  {
   "cell_type": "code",
   "execution_count": 7,
   "id": "4257365f",
   "metadata": {},
   "outputs": [
    {
     "name": "stdout",
     "output_type": "stream",
     "text": [
      "Opened database successfully\n"
     ]
    }
   ],
   "source": [
    "# create a database manually before executing the query below\n",
    "db = mysql.connect(\n",
    "    host = \"127.0.0.1\",\n",
    "    user = \"root\",\n",
    "    passwd = \"root\",\n",
    "    database = 'csvtodbauto'\n",
    ")\n",
    "cursor = db.cursor()\n",
    "print('Opened database successfully')"
   ]
  },
  {
   "cell_type": "code",
   "execution_count": 8,
   "id": "ed84fd81",
   "metadata": {},
   "outputs": [
    {
     "name": "stdout",
     "output_type": "stream",
     "text": [
      "customer_contracts\n",
      "Opened database successfully\n",
      "Table customer_contracts was created successfully.\n",
      "Table customer_contracts imported to database\n",
      "\n",
      "customer_demo\n",
      "Opened database successfully\n",
      "Table customer_demo was created successfully.\n",
      "Table customer_demo imported to database\n",
      "\n",
      "customer_engagements\n",
      "Opened database successfully\n",
      "Table customer_engagements was created successfully.\n",
      "Table customer_engagements imported to database\n",
      "\n",
      "All tables have been successfully imported into the database\n"
     ]
    }
   ],
   "source": [
    "for k in csv_files:\n",
    "    dataframe = df[k]\n",
    "    clean_tbl_name = k.lower().replace(\" \", \"_\").replace(\"-\",\"_\").replace(r\"/\",\"_\").replace(\"\\\\\",\"_\").replace(\"$\",\"\").replace(\"%\",\"\")\n",
    "    # Remove .csv extension from the cleaned table name\n",
    "    tbl_name = '{0}'.format(clean_tbl_name.split('.')[0])\n",
    "    print(tbl_name)\n",
    "    \n",
    "    # Rename column headers\n",
    "    new_name = k.lower().replace(\" \", \"_\").replace(\"-\",\"_\").replace(r\"/\",\"_\").replace(\"\\\\\",\"_\").replace(\"$\",\"\").replace(\"%\",\"\")\n",
    "    dataframe.rename(columns = {'i':'new_name'}, inplace = True)\n",
    "    \n",
    "    # Table schema data types\n",
    "    col_str = \", \".join(\"{} {}\".format(n, d) for (n, d) in zip (dataframe.columns, dataframe.dtypes.replace(replacements)))\n",
    "    \n",
    "    # Connect to database\n",
    "    db = mysql.connect(\n",
    "        host = \"127.0.0.1\",\n",
    "        user = \"root\",\n",
    "        passwd = \"root\",\n",
    "        database = 'csvtodbauto'\n",
    "    )\n",
    "    cursor = db.cursor()\n",
    "    print('Opened database successfully')\n",
    "    \n",
    "    cursor.execute(\"DROP TABLE IF EXISTS %s\" % (clean_tbl_name))\n",
    "    \n",
    "    # Create table\n",
    "    cursor.execute(\"CREATE TABLE IF NOT EXISTS %s (%s);\" % (tbl_name, col_str))\n",
    "    print('Table {0} was created successfully.'.format(tbl_name))\n",
    "    df[k] = df[k].apply(lambda x: x.fillna(0) if x.dtype.kind in 'biufc' else x.fillna('N/A'))\n",
    "    \n",
    "    for i, row in df[k].iterrows():\n",
    "        param = \"\"\n",
    "        for i in range (len(df[k].columns)):\n",
    "            param = param + \"%s, \"\n",
    "\n",
    "        param = param[:-2]\n",
    "        sql = \"INSERT INTO csvtodbauto.%s VALUES (%s)\" % (tbl_name, param)\n",
    "        cursor.execute(sql, tuple(row))\n",
    "        \n",
    "    db.commit()\n",
    "    cursor.close()\n",
    "    print('Table {0} imported to database'.format(tbl_name) + '\\n')\n",
    "    \n",
    "print('All tables have been successfully imported into the database')"
   ]
  }
 ],
 "metadata": {
  "kernelspec": {
   "display_name": "Python 3 (ipykernel)",
   "language": "python",
   "name": "python3"
  },
  "language_info": {
   "codemirror_mode": {
    "name": "ipython",
    "version": 3
   },
   "file_extension": ".py",
   "mimetype": "text/x-python",
   "name": "python",
   "nbconvert_exporter": "python",
   "pygments_lexer": "ipython3",
   "version": "3.9.7"
  }
 },
 "nbformat": 4,
 "nbformat_minor": 5
}
