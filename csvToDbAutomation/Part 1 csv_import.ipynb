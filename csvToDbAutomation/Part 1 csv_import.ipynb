{
 "cells": [
  {
   "cell_type": "code",
   "execution_count": 1,
   "id": "03634735",
   "metadata": {},
   "outputs": [],
   "source": [
    "import os\n",
    "import numpy as sp\n",
    "import pandas as pd\n",
    "import mysql.connector as mysql"
   ]
  },
  {
   "cell_type": "markdown",
   "id": "8b5195ee",
   "metadata": {},
   "source": [
    "### Import a CSV file into a Pandas dataframe"
   ]
  },
  {
   "cell_type": "code",
   "execution_count": 2,
   "id": "297ea81d",
   "metadata": {},
   "outputs": [
    {
     "data": {
      "text/html": [
       "<div>\n",
       "<style scoped>\n",
       "    .dataframe tbody tr th:only-of-type {\n",
       "        vertical-align: middle;\n",
       "    }\n",
       "\n",
       "    .dataframe tbody tr th {\n",
       "        vertical-align: top;\n",
       "    }\n",
       "\n",
       "    .dataframe thead th {\n",
       "        text-align: right;\n",
       "    }\n",
       "</style>\n",
       "<table border=\"1\" class=\"dataframe\">\n",
       "  <thead>\n",
       "    <tr style=\"text-align: right;\">\n",
       "      <th></th>\n",
       "      <th>customer_name</th>\n",
       "      <th>start_date</th>\n",
       "      <th>end_date</th>\n",
       "      <th>contract_amount_m</th>\n",
       "      <th>invoice_sent</th>\n",
       "      <th>paid</th>\n",
       "    </tr>\n",
       "  </thead>\n",
       "  <tbody>\n",
       "    <tr>\n",
       "      <th>0</th>\n",
       "      <td>Nike</td>\n",
       "      <td>01-02-19</td>\n",
       "      <td>12-20-2020</td>\n",
       "      <td>2.98</td>\n",
       "      <td>Yes</td>\n",
       "      <td>Yes</td>\n",
       "    </tr>\n",
       "    <tr>\n",
       "      <th>1</th>\n",
       "      <td>Reebox</td>\n",
       "      <td>06-20-2017</td>\n",
       "      <td>NaN</td>\n",
       "      <td>3.90</td>\n",
       "      <td>No</td>\n",
       "      <td>No</td>\n",
       "    </tr>\n",
       "    <tr>\n",
       "      <th>2</th>\n",
       "      <td>Adidas</td>\n",
       "      <td>12-07-15</td>\n",
       "      <td>6-20-2018</td>\n",
       "      <td>4.82</td>\n",
       "      <td>Yes</td>\n",
       "      <td>Yes</td>\n",
       "    </tr>\n",
       "    <tr>\n",
       "      <th>3</th>\n",
       "      <td>Google</td>\n",
       "      <td>05-25-2014</td>\n",
       "      <td>03-20-2017</td>\n",
       "      <td>5.74</td>\n",
       "      <td>Yes</td>\n",
       "      <td>No</td>\n",
       "    </tr>\n",
       "    <tr>\n",
       "      <th>4</th>\n",
       "      <td>Amazon</td>\n",
       "      <td>11-10-12</td>\n",
       "      <td>12-20-2015</td>\n",
       "      <td>NaN</td>\n",
       "      <td>No</td>\n",
       "      <td>Yes</td>\n",
       "    </tr>\n",
       "    <tr>\n",
       "      <th>5</th>\n",
       "      <td>Facebook</td>\n",
       "      <td>04-29-2011</td>\n",
       "      <td>NaN</td>\n",
       "      <td>7.58</td>\n",
       "      <td>Yes</td>\n",
       "      <td>No</td>\n",
       "    </tr>\n",
       "    <tr>\n",
       "      <th>6</th>\n",
       "      <td>Apple</td>\n",
       "      <td>10-15-2009</td>\n",
       "      <td>NaN</td>\n",
       "      <td>NaN</td>\n",
       "      <td>Yes</td>\n",
       "      <td>Yes</td>\n",
       "    </tr>\n",
       "    <tr>\n",
       "      <th>7</th>\n",
       "      <td>Airbnb</td>\n",
       "      <td>04-02-08</td>\n",
       "      <td>NaN</td>\n",
       "      <td>9.42</td>\n",
       "      <td>No</td>\n",
       "      <td>No</td>\n",
       "    </tr>\n",
       "    <tr>\n",
       "      <th>8</th>\n",
       "      <td>Nest</td>\n",
       "      <td>09-19-2006</td>\n",
       "      <td>NaN</td>\n",
       "      <td>3.00</td>\n",
       "      <td>Yes</td>\n",
       "      <td>Yes</td>\n",
       "    </tr>\n",
       "    <tr>\n",
       "      <th>9</th>\n",
       "      <td>Canon</td>\n",
       "      <td>03-07-05</td>\n",
       "      <td>09-20-2009</td>\n",
       "      <td>11.26</td>\n",
       "      <td>Yes</td>\n",
       "      <td>No</td>\n",
       "    </tr>\n",
       "  </tbody>\n",
       "</table>\n",
       "</div>"
      ],
      "text/plain": [
       "  customer_name  start_date    end_date  contract_amount_m invoice_sent paid\n",
       "0          Nike    01-02-19  12-20-2020               2.98          Yes  Yes\n",
       "1        Reebox  06-20-2017         NaN               3.90           No   No\n",
       "2        Adidas    12-07-15   6-20-2018               4.82          Yes  Yes\n",
       "3        Google  05-25-2014  03-20-2017               5.74          Yes   No\n",
       "4        Amazon    11-10-12  12-20-2015                NaN           No  Yes\n",
       "5      Facebook  04-29-2011         NaN               7.58          Yes   No\n",
       "6         Apple  10-15-2009         NaN                NaN          Yes  Yes\n",
       "7        Airbnb    04-02-08         NaN               9.42           No   No\n",
       "8          Nest  09-19-2006         NaN               3.00          Yes  Yes\n",
       "9         Canon    03-07-05  09-20-2009              11.26          Yes   No"
      ]
     },
     "execution_count": 2,
     "metadata": {},
     "output_type": "execute_result"
    }
   ],
   "source": [
    "df = pd.read_csv('datasets/Customer Contracts$.csv')\n",
    "df"
   ]
  },
  {
   "cell_type": "markdown",
   "id": "a9c22350",
   "metadata": {},
   "source": [
    "### Clean the table name and remove extra symbols, spaces, capital letters"
   ]
  },
  {
   "cell_type": "code",
   "execution_count": 3,
   "id": "4418ace8",
   "metadata": {},
   "outputs": [
    {
     "data": {
      "text/plain": [
       "'customer_contracts'"
      ]
     },
     "execution_count": 3,
     "metadata": {},
     "output_type": "execute_result"
    }
   ],
   "source": [
    "file = 'Customer Contracts$'\n",
    "clean_tbl_name = file.lower().replace(\" \", \"_\").replace(\"-\",\"_\").\\\n",
    "                    replace(r\"/\",\"_\").replace(\"\\\\\",\"_\").\\\n",
    "                    replace(\"$\",\"\").replace(\"%\",\"\")\n",
    "clean_tbl_name"
   ]
  },
  {
   "cell_type": "markdown",
   "id": "d30af34a",
   "metadata": {},
   "source": [
    "### Clean column headers and remove extra symbols, spaces, capital letters"
   ]
  },
  {
   "cell_type": "code",
   "execution_count": 4,
   "id": "794374ee",
   "metadata": {},
   "outputs": [
    {
     "data": {
      "text/plain": [
       "Index(['customer_name', 'start_date', 'end_date', 'contract_amount_m',\n",
       "       'invoice_sent', 'paid'],\n",
       "      dtype='object')"
      ]
     },
     "execution_count": 4,
     "metadata": {},
     "output_type": "execute_result"
    }
   ],
   "source": [
    "df.columns"
   ]
  },
  {
   "cell_type": "code",
   "execution_count": 5,
   "id": "fd28f3f0",
   "metadata": {},
   "outputs": [],
   "source": [
    "for i in df.columns:\n",
    "    new_name = i.lower().replace(\" \", \"_\").replace(\"-\",\"_\").\\\n",
    "                    replace(r\"/\",\"_\").replace(\"\\\\\",\"_\").\\\n",
    "                    replace(\"$\",\"\").replace(\"%\",\"\")\n",
    "    df.rename(columns = {'i':'new_name'}, inplace = True)"
   ]
  },
  {
   "cell_type": "markdown",
   "id": "ba67e3c5",
   "metadata": {},
   "source": [
    "### Write the create table SQL statement"
   ]
  },
  {
   "cell_type": "code",
   "execution_count": 6,
   "id": "86fc3384",
   "metadata": {},
   "outputs": [],
   "source": [
    "replacements = {\n",
    "    'object': 'VARCHAR(255)',\n",
    "    'float64': 'FLOAT',\n",
    "    'int64': 'INT',\n",
    "    'datetime64': 'DATETIME',\n",
    "    'timedelta64[ns]': 'VARCHAR(255)'\n",
    "}"
   ]
  },
  {
   "cell_type": "code",
   "execution_count": 7,
   "id": "9e492714",
   "metadata": {},
   "outputs": [
    {
     "name": "stdout",
     "output_type": "stream",
     "text": [
      "customer_name VARCHAR(255), start_date VARCHAR(255), end_date VARCHAR(255), contract_amount_m FLOAT, invoice_sent VARCHAR(255), paid VARCHAR(255)\n"
     ]
    }
   ],
   "source": [
    "col_str = \", \".join(\"{} {}\".format(n, d) for (n, d) in zip (df.columns, df.dtypes.replace(replacements)))\n",
    "print(col_str)"
   ]
  },
  {
   "cell_type": "markdown",
   "id": "9cf90568",
   "metadata": {},
   "source": [
    "### Connect to the database"
   ]
  },
  {
   "cell_type": "code",
   "execution_count": 8,
   "id": "9e293e51",
   "metadata": {},
   "outputs": [
    {
     "name": "stdout",
     "output_type": "stream",
     "text": [
      "<mysql.connector.connection_cext.CMySQLConnection object at 0x000002BE233A0820>\n",
      "\n",
      "Opened database successfully\n"
     ]
    }
   ],
   "source": [
    "db = mysql.connect(\n",
    "    host = \"127.0.0.1\",\n",
    "    user = \"root\",\n",
    "    passwd = \"root\",\n",
    "    database = 'csvtodbauto'\n",
    ")\n",
    "print(db) \n",
    "print()\n",
    "cursor = db.cursor()\n",
    "print('Opened database successfully')"
   ]
  },
  {
   "cell_type": "markdown",
   "id": "3589d823",
   "metadata": {},
   "source": [
    "### Create database (only do this if you are doing this project for the first time)"
   ]
  },
  {
   "cell_type": "code",
   "execution_count": 9,
   "id": "bf18e40a",
   "metadata": {},
   "outputs": [],
   "source": [
    "cursor.execute(\"CREATE DATABASE IF NOT EXISTS csvtodbauto\")"
   ]
  },
  {
   "cell_type": "markdown",
   "id": "116d2ce2",
   "metadata": {},
   "source": [
    "### Create table"
   ]
  },
  {
   "cell_type": "code",
   "execution_count": 10,
   "id": "7a079e6f",
   "metadata": {},
   "outputs": [],
   "source": [
    "cursor.execute(\"DROP TABLE IF EXISTS %s\" % (clean_tbl_name))"
   ]
  },
  {
   "cell_type": "code",
   "execution_count": 11,
   "id": "5f430701",
   "metadata": {},
   "outputs": [
    {
     "name": "stdout",
     "output_type": "stream",
     "text": [
      "Creating table....\n",
      "Table is created....\n"
     ]
    }
   ],
   "source": [
    "print('Creating table....')\n",
    "cursor.execute(\"CREATE TABLE %s (%s);\" % (clean_tbl_name, col_str))\n",
    "print(\"Table is created....\")"
   ]
  },
  {
   "cell_type": "markdown",
   "id": "5d6d795b",
   "metadata": {},
   "source": [
    "### Populate table"
   ]
  },
  {
   "cell_type": "code",
   "execution_count": 12,
   "id": "45fe7282",
   "metadata": {},
   "outputs": [
    {
     "data": {
      "text/html": [
       "<div>\n",
       "<style scoped>\n",
       "    .dataframe tbody tr th:only-of-type {\n",
       "        vertical-align: middle;\n",
       "    }\n",
       "\n",
       "    .dataframe tbody tr th {\n",
       "        vertical-align: top;\n",
       "    }\n",
       "\n",
       "    .dataframe thead th {\n",
       "        text-align: right;\n",
       "    }\n",
       "</style>\n",
       "<table border=\"1\" class=\"dataframe\">\n",
       "  <thead>\n",
       "    <tr style=\"text-align: right;\">\n",
       "      <th></th>\n",
       "      <th>customer_name</th>\n",
       "      <th>start_date</th>\n",
       "      <th>end_date</th>\n",
       "      <th>contract_amount_m</th>\n",
       "      <th>invoice_sent</th>\n",
       "      <th>paid</th>\n",
       "    </tr>\n",
       "  </thead>\n",
       "  <tbody>\n",
       "    <tr>\n",
       "      <th>0</th>\n",
       "      <td>Nike</td>\n",
       "      <td>01-02-19</td>\n",
       "      <td>12-20-2020</td>\n",
       "      <td>2.98</td>\n",
       "      <td>Yes</td>\n",
       "      <td>Yes</td>\n",
       "    </tr>\n",
       "    <tr>\n",
       "      <th>1</th>\n",
       "      <td>Reebox</td>\n",
       "      <td>06-20-2017</td>\n",
       "      <td>NaN</td>\n",
       "      <td>3.90</td>\n",
       "      <td>No</td>\n",
       "      <td>No</td>\n",
       "    </tr>\n",
       "    <tr>\n",
       "      <th>2</th>\n",
       "      <td>Adidas</td>\n",
       "      <td>12-07-15</td>\n",
       "      <td>6-20-2018</td>\n",
       "      <td>4.82</td>\n",
       "      <td>Yes</td>\n",
       "      <td>Yes</td>\n",
       "    </tr>\n",
       "    <tr>\n",
       "      <th>3</th>\n",
       "      <td>Google</td>\n",
       "      <td>05-25-2014</td>\n",
       "      <td>03-20-2017</td>\n",
       "      <td>5.74</td>\n",
       "      <td>Yes</td>\n",
       "      <td>No</td>\n",
       "    </tr>\n",
       "    <tr>\n",
       "      <th>4</th>\n",
       "      <td>Amazon</td>\n",
       "      <td>11-10-12</td>\n",
       "      <td>12-20-2015</td>\n",
       "      <td>NaN</td>\n",
       "      <td>No</td>\n",
       "      <td>Yes</td>\n",
       "    </tr>\n",
       "    <tr>\n",
       "      <th>5</th>\n",
       "      <td>Facebook</td>\n",
       "      <td>04-29-2011</td>\n",
       "      <td>NaN</td>\n",
       "      <td>7.58</td>\n",
       "      <td>Yes</td>\n",
       "      <td>No</td>\n",
       "    </tr>\n",
       "    <tr>\n",
       "      <th>6</th>\n",
       "      <td>Apple</td>\n",
       "      <td>10-15-2009</td>\n",
       "      <td>NaN</td>\n",
       "      <td>NaN</td>\n",
       "      <td>Yes</td>\n",
       "      <td>Yes</td>\n",
       "    </tr>\n",
       "    <tr>\n",
       "      <th>7</th>\n",
       "      <td>Airbnb</td>\n",
       "      <td>04-02-08</td>\n",
       "      <td>NaN</td>\n",
       "      <td>9.42</td>\n",
       "      <td>No</td>\n",
       "      <td>No</td>\n",
       "    </tr>\n",
       "    <tr>\n",
       "      <th>8</th>\n",
       "      <td>Nest</td>\n",
       "      <td>09-19-2006</td>\n",
       "      <td>NaN</td>\n",
       "      <td>3.00</td>\n",
       "      <td>Yes</td>\n",
       "      <td>Yes</td>\n",
       "    </tr>\n",
       "    <tr>\n",
       "      <th>9</th>\n",
       "      <td>Canon</td>\n",
       "      <td>03-07-05</td>\n",
       "      <td>09-20-2009</td>\n",
       "      <td>11.26</td>\n",
       "      <td>Yes</td>\n",
       "      <td>No</td>\n",
       "    </tr>\n",
       "  </tbody>\n",
       "</table>\n",
       "</div>"
      ],
      "text/plain": [
       "  customer_name  start_date    end_date  contract_amount_m invoice_sent paid\n",
       "0          Nike    01-02-19  12-20-2020               2.98          Yes  Yes\n",
       "1        Reebox  06-20-2017         NaN               3.90           No   No\n",
       "2        Adidas    12-07-15   6-20-2018               4.82          Yes  Yes\n",
       "3        Google  05-25-2014  03-20-2017               5.74          Yes   No\n",
       "4        Amazon    11-10-12  12-20-2015                NaN           No  Yes\n",
       "5      Facebook  04-29-2011         NaN               7.58          Yes   No\n",
       "6         Apple  10-15-2009         NaN                NaN          Yes  Yes\n",
       "7        Airbnb    04-02-08         NaN               9.42           No   No\n",
       "8          Nest  09-19-2006         NaN               3.00          Yes  Yes\n",
       "9         Canon    03-07-05  09-20-2009              11.26          Yes   No"
      ]
     },
     "execution_count": 12,
     "metadata": {},
     "output_type": "execute_result"
    }
   ],
   "source": [
    "df"
   ]
  },
  {
   "cell_type": "code",
   "execution_count": 13,
   "id": "13b81781",
   "metadata": {},
   "outputs": [
    {
     "data": {
      "text/html": [
       "<div>\n",
       "<style scoped>\n",
       "    .dataframe tbody tr th:only-of-type {\n",
       "        vertical-align: middle;\n",
       "    }\n",
       "\n",
       "    .dataframe tbody tr th {\n",
       "        vertical-align: top;\n",
       "    }\n",
       "\n",
       "    .dataframe thead th {\n",
       "        text-align: right;\n",
       "    }\n",
       "</style>\n",
       "<table border=\"1\" class=\"dataframe\">\n",
       "  <thead>\n",
       "    <tr style=\"text-align: right;\">\n",
       "      <th></th>\n",
       "      <th>customer_name</th>\n",
       "      <th>start_date</th>\n",
       "      <th>end_date</th>\n",
       "      <th>contract_amount_m</th>\n",
       "      <th>invoice_sent</th>\n",
       "      <th>paid</th>\n",
       "    </tr>\n",
       "  </thead>\n",
       "  <tbody>\n",
       "    <tr>\n",
       "      <th>0</th>\n",
       "      <td>Nike</td>\n",
       "      <td>01-02-19</td>\n",
       "      <td>12-20-2020</td>\n",
       "      <td>2.98</td>\n",
       "      <td>Yes</td>\n",
       "      <td>Yes</td>\n",
       "    </tr>\n",
       "    <tr>\n",
       "      <th>1</th>\n",
       "      <td>Reebox</td>\n",
       "      <td>06-20-2017</td>\n",
       "      <td>N/A</td>\n",
       "      <td>3.90</td>\n",
       "      <td>No</td>\n",
       "      <td>No</td>\n",
       "    </tr>\n",
       "    <tr>\n",
       "      <th>2</th>\n",
       "      <td>Adidas</td>\n",
       "      <td>12-07-15</td>\n",
       "      <td>6-20-2018</td>\n",
       "      <td>4.82</td>\n",
       "      <td>Yes</td>\n",
       "      <td>Yes</td>\n",
       "    </tr>\n",
       "    <tr>\n",
       "      <th>3</th>\n",
       "      <td>Google</td>\n",
       "      <td>05-25-2014</td>\n",
       "      <td>03-20-2017</td>\n",
       "      <td>5.74</td>\n",
       "      <td>Yes</td>\n",
       "      <td>No</td>\n",
       "    </tr>\n",
       "    <tr>\n",
       "      <th>4</th>\n",
       "      <td>Amazon</td>\n",
       "      <td>11-10-12</td>\n",
       "      <td>12-20-2015</td>\n",
       "      <td>0.00</td>\n",
       "      <td>No</td>\n",
       "      <td>Yes</td>\n",
       "    </tr>\n",
       "    <tr>\n",
       "      <th>5</th>\n",
       "      <td>Facebook</td>\n",
       "      <td>04-29-2011</td>\n",
       "      <td>N/A</td>\n",
       "      <td>7.58</td>\n",
       "      <td>Yes</td>\n",
       "      <td>No</td>\n",
       "    </tr>\n",
       "    <tr>\n",
       "      <th>6</th>\n",
       "      <td>Apple</td>\n",
       "      <td>10-15-2009</td>\n",
       "      <td>N/A</td>\n",
       "      <td>0.00</td>\n",
       "      <td>Yes</td>\n",
       "      <td>Yes</td>\n",
       "    </tr>\n",
       "    <tr>\n",
       "      <th>7</th>\n",
       "      <td>Airbnb</td>\n",
       "      <td>04-02-08</td>\n",
       "      <td>N/A</td>\n",
       "      <td>9.42</td>\n",
       "      <td>No</td>\n",
       "      <td>No</td>\n",
       "    </tr>\n",
       "    <tr>\n",
       "      <th>8</th>\n",
       "      <td>Nest</td>\n",
       "      <td>09-19-2006</td>\n",
       "      <td>N/A</td>\n",
       "      <td>3.00</td>\n",
       "      <td>Yes</td>\n",
       "      <td>Yes</td>\n",
       "    </tr>\n",
       "    <tr>\n",
       "      <th>9</th>\n",
       "      <td>Canon</td>\n",
       "      <td>03-07-05</td>\n",
       "      <td>09-20-2009</td>\n",
       "      <td>11.26</td>\n",
       "      <td>Yes</td>\n",
       "      <td>No</td>\n",
       "    </tr>\n",
       "  </tbody>\n",
       "</table>\n",
       "</div>"
      ],
      "text/plain": [
       "  customer_name  start_date    end_date  contract_amount_m invoice_sent paid\n",
       "0          Nike    01-02-19  12-20-2020               2.98          Yes  Yes\n",
       "1        Reebox  06-20-2017         N/A               3.90           No   No\n",
       "2        Adidas    12-07-15   6-20-2018               4.82          Yes  Yes\n",
       "3        Google  05-25-2014  03-20-2017               5.74          Yes   No\n",
       "4        Amazon    11-10-12  12-20-2015               0.00           No  Yes\n",
       "5      Facebook  04-29-2011         N/A               7.58          Yes   No\n",
       "6         Apple  10-15-2009         N/A               0.00          Yes  Yes\n",
       "7        Airbnb    04-02-08         N/A               9.42           No   No\n",
       "8          Nest  09-19-2006         N/A               3.00          Yes  Yes\n",
       "9         Canon    03-07-05  09-20-2009              11.26          Yes   No"
      ]
     },
     "execution_count": 13,
     "metadata": {},
     "output_type": "execute_result"
    }
   ],
   "source": [
    "df = df.apply(lambda x: x.fillna(0) if x.dtype.kind in 'biufc' else x.fillna('N/A'))\n",
    "df"
   ]
  },
  {
   "cell_type": "code",
   "execution_count": 14,
   "id": "b0f61adc",
   "metadata": {},
   "outputs": [
    {
     "name": "stdout",
     "output_type": "stream",
     "text": [
      "Record inserted\n",
      "Record inserted\n",
      "Record inserted\n",
      "Record inserted\n",
      "Record inserted\n",
      "Record inserted\n",
      "Record inserted\n",
      "Record inserted\n",
      "Record inserted\n",
      "Record inserted\n"
     ]
    }
   ],
   "source": [
    "for i, row in df.iterrows():\n",
    "    sql = \"INSERT INTO csvtodbauto.customer_contracts VALUES (%s, %s, %s, %s, %s, %s)\"\n",
    "    cursor.execute(sql, tuple(row))\n",
    "    print(\"Record inserted\")"
   ]
  },
  {
   "cell_type": "markdown",
   "id": "f7da2ef3",
   "metadata": {},
   "source": [
    "### Commit changes in database"
   ]
  },
  {
   "cell_type": "code",
   "execution_count": 15,
   "id": "41d97ac8",
   "metadata": {},
   "outputs": [
    {
     "name": "stdout",
     "output_type": "stream",
     "text": [
      "Table customer_contracts imported to database successfully.\n"
     ]
    }
   ],
   "source": [
    "db.commit()\n",
    "cursor.close()\n",
    "print('Table %s imported to database successfully.' % clean_tbl_name)"
   ]
  }
 ],
 "metadata": {
  "kernelspec": {
   "display_name": "Python 3 (ipykernel)",
   "language": "python",
   "name": "python3"
  },
  "language_info": {
   "codemirror_mode": {
    "name": "ipython",
    "version": 3
   },
   "file_extension": ".py",
   "mimetype": "text/x-python",
   "name": "python",
   "nbconvert_exporter": "python",
   "pygments_lexer": "ipython3",
   "version": "3.9.7"
  }
 },
 "nbformat": 4,
 "nbformat_minor": 5
}
