{
 "cells": [
  {
   "cell_type": "code",
   "execution_count": 1,
   "id": "17cb2aed",
   "metadata": {},
   "outputs": [],
   "source": [
    "import pandas as pd\n",
    "from pulp import *"
   ]
  },
  {
   "cell_type": "markdown",
   "id": "ce1ccfe0",
   "metadata": {},
   "source": [
    "### Parameters"
   ]
  },
  {
   "cell_type": "code",
   "execution_count": 2,
   "id": "f7dc363b",
   "metadata": {},
   "outputs": [],
   "source": [
    "items = [\"A\", \"B\", \"C\", \"D\", \"E\", \"F\"]\n",
    "baker = {\"A\": 50, \"B\": 0, \"C\": 45, \"D\": 35, \"E\": 25, \"F\": 0}\n",
    "oven = {\"A\": 45, \"B\": 0, \"C\": 90, \"D\": 20, \"E\": 45, \"F\": 0}\n",
    "display = {\"A\": 4, \"B\": 1.5, \"C\": 3, \"D\": 1, \"E\": 1, \"F\": 1}\n",
    "assist = {\"A\": 0, \"B\": 12, \"C\": 0, \"D\": 0, \"E\": 0, \"F\": 8}\n",
    "profit  = {\"A\": 6, \"B\": 4.4, \"C\": 7.5, \"D\": 0.9, \"E\": 1.2, \"F\": 2.2}"
   ]
  },
  {
   "cell_type": "markdown",
   "id": "7b76cf27",
   "metadata": {},
   "source": [
    "### Initialize Linear Optimization Problem"
   ]
  },
  {
   "cell_type": "code",
   "execution_count": 3,
   "id": "60e7b849",
   "metadata": {},
   "outputs": [
    {
     "name": "stderr",
     "output_type": "stream",
     "text": [
      "C:\\Users\\User\\anaconda3\\lib\\site-packages\\pulp\\pulp.py:1352: UserWarning: Spaces are not permitted in the name. Converted to '_'\n",
      "  warnings.warn(\"Spaces are not permitted in the name. Converted to '_'\")\n"
     ]
    }
   ],
   "source": [
    "# 1. Initialize Class\n",
    "model = LpProblem('Maximize Bakery Profits', LpMaximize)\n",
    "\n",
    "# 2. Define Decision Variables\n",
    "A = LpVariable('A', lowBound = 0, cat = 'Integer')\n",
    "B = LpVariable('B', lowBound = 0, cat = 'Integer')\n",
    "C = LpVariable('C', lowBound = 0, cat = 'Integer')\n",
    "D = LpVariable('D', lowBound = 0, cat = 'Integer')\n",
    "E = LpVariable('E', lowBound = 0, cat = 'Integer')\n",
    "F = LpVariable('F', lowBound = 0, cat = 'Integer')\n",
    "var_dict = {'A': A, 'B': B, 'C': C, 'D': D, 'E': E, 'F': F}"
   ]
  },
  {
   "cell_type": "markdown",
   "id": "e72f3c41",
   "metadata": {},
   "source": [
    "- *LpMaximize*: objective is to maximize the profit\n",
    "- *lowBound = 0*: Cannot have a negative value of items\n",
    "- *cat = 'Integer'*: We sell items in entirety."
   ]
  },
  {
   "cell_type": "code",
   "execution_count": 4,
   "id": "be777602",
   "metadata": {},
   "outputs": [],
   "source": [
    "# 3. Define Objective Function\n",
    "model += lpSum([profit[i] * var_dict[i] for i in items])"
   ]
  },
  {
   "cell_type": "code",
   "execution_count": 5,
   "id": "c82f5c3d",
   "metadata": {},
   "outputs": [],
   "source": [
    "# 4. Define Constaints\n",
    "# Bakers\n",
    "model += lpSum([var_dict[i] * baker[i] for i in items]) <= 24*60\n",
    "# Oven\n",
    "model += lpSum([var_dict[i] * oven[i] for i in items]) <= 48*60\n",
    "# Assistant\n",
    "model += lpSum([var_dict[i] * assist[i] for i in items]) <= 4*60\n",
    "# Display\n",
    "model += lpSum([var_dict[i] * display[i] for i in items]) <= 100"
   ]
  },
  {
   "cell_type": "markdown",
   "id": "c3eca63d",
   "metadata": {},
   "source": [
    "### Solve the model"
   ]
  },
  {
   "cell_type": "code",
   "execution_count": 6,
   "id": "08ad4c64",
   "metadata": {},
   "outputs": [
    {
     "name": "stdout",
     "output_type": "stream",
     "text": [
      "Lemon Cake  =  0\n",
      "Sandwich  =  20\n",
      "Chocolate Cake  =  23\n",
      "Croissant  =  0\n",
      "Chocolate Eclair  =  1\n",
      "Panini  =  0\n",
      "1,060.0\t/1,440\t minutes of bakers used\n",
      "2,115.0\t/2,880\t minutes of oven used\n",
      "240.0\t/240\t minutes of assistant used\n",
      "100.0\t/200\t display slots\n",
      "Profit reached per day: 262 euros\n"
     ]
    }
   ],
   "source": [
    "dict_name = dict(zip([\"A\", \"B\", \"C\", \"D\", \"E\", \"F\"],\n",
    "                    [\"Lemon Cake\", \"Sandwich\", \"Chocolate Cake\", \"Croissant\", \"Chocolate Eclair\", \"Panini\"]))\n",
    "model.solve()\n",
    "for v in model.variables():\n",
    "    print(dict_name[v.name], \" = \", int(v.varValue))\n",
    "    \n",
    "print(\"{:,}\\t/{:,}\\t minutes of bakers used\".format(sum([var_dict[i].varValue*baker[i] for i in items]), 24*60))\n",
    "print(\"{:,}\\t/{:,}\\t minutes of oven used\".format(sum([var_dict[i].varValue*oven[i] for i in items]), 48*60))\n",
    "print(\"{:,}\\t/{:,}\\t minutes of assistant used\".format(sum([var_dict[i].varValue*assist[i] for i in items]), 4*60))\n",
    "print(\"{:,}\\t/{:,}\\t display slots\".format(sum([var_dict[i].varValue*display[i] for i in items]), 200))\n",
    "print(\"Profit reached per day: {:,} euros\".format(round(sum(var_dict[i].varValue * profit[i] for i in items)), 2))\n"
   ]
  },
  {
   "cell_type": "markdown",
   "id": "ca7c536f",
   "metadata": {},
   "source": [
    "> This model is based on the original constraints stated in the README markdown file. What if we switch scenarios?"
   ]
  },
  {
   "cell_type": "markdown",
   "id": "62065ae9",
   "metadata": {},
   "source": [
    "#### What if the bakery hired 4 more assistants?"
   ]
  },
  {
   "cell_type": "markdown",
   "id": "683ea53c",
   "metadata": {},
   "source": [
    "### Modify assistant constraint"
   ]
  },
  {
   "cell_type": "code",
   "execution_count": 7,
   "id": "048d35ad",
   "metadata": {},
   "outputs": [
    {
     "name": "stdout",
     "output_type": "stream",
     "text": [
      "Lemon Cake  =  0\n",
      "Sandwich  =  66\n",
      "Chocolate Cake  =  0\n",
      "Croissant  =  0\n",
      "Chocolate Eclair  =  0\n",
      "Panini  =  1\n",
      "0.0\t/1,440\t minutes of bakers used\n",
      "0.0\t/2,880\t minutes of oven used\n",
      "800.0\t/1,200\t minutes of assistant used\n",
      "100.0\t/200\t display slots\n",
      "Profit reached per day: 293 euros\n"
     ]
    }
   ],
   "source": [
    "# 1. Initialize Class\n",
    "model = LpProblem('Maximize Bakery Profits', LpMaximize)\n",
    "\n",
    "# 2. Define Decision Variables\n",
    "A = LpVariable('A', lowBound = 0, cat = 'Integer')\n",
    "B = LpVariable('B', lowBound = 0, cat = 'Integer')\n",
    "C = LpVariable('C', lowBound = 0, cat = 'Integer')\n",
    "D = LpVariable('D', lowBound = 0, cat = 'Integer')\n",
    "E = LpVariable('E', lowBound = 0, cat = 'Integer')\n",
    "F = LpVariable('F', lowBound = 0, cat = 'Integer')\n",
    "var_dict = {'A': A, 'B': B, 'C': C, 'D': D, 'E': E, 'F': F}\n",
    "\n",
    "# 3. Define Objective Function\n",
    "model += lpSum([profit[i] * var_dict[i] for i in items])\n",
    "\n",
    "# 4. Define Constaints\n",
    "# Bakers\n",
    "model += lpSum([var_dict[i] * baker[i] for i in items]) <= 24*60\n",
    "# Oven\n",
    "model += lpSum([var_dict[i] * oven[i] for i in items]) <= 48*60\n",
    "# Assistant\n",
    "model += lpSum([var_dict[i] * assist[i] for i in items]) <= 4*60*5\n",
    "# Display\n",
    "model += lpSum([var_dict[i] * display[i] for i in items]) <= 100\n",
    "\n",
    "# 5. Solve the model\n",
    "dict_name = dict(zip([\"A\", \"B\", \"C\", \"D\", \"E\", \"F\"],\n",
    "                    [\"Lemon Cake\", \"Sandwich\", \"Chocolate Cake\", \"Croissant\", \"Chocolate Eclair\", \"Panini\"]))\n",
    "model.solve()\n",
    "for v in model.variables():\n",
    "    print(dict_name[v.name], \" = \", int(v.varValue))\n",
    "    \n",
    "print(\"{:,}\\t/{:,}\\t minutes of bakers used\".format(sum([var_dict[i].varValue*baker[i] for i in items]), 24*60))\n",
    "print(\"{:,}\\t/{:,}\\t minutes of oven used\".format(sum([var_dict[i].varValue*oven[i] for i in items]), 48*60))\n",
    "print(\"{:,}\\t/{:,}\\t minutes of assistant used\".format(sum([var_dict[i].varValue*assist[i] for i in items]), 4*60*5))\n",
    "print(\"{:,}\\t/{:,}\\t display slots\".format(sum([var_dict[i].varValue*display[i] for i in items]), 200))\n",
    "print(\"Profit reached per day: {:,} euros\".format(round(sum(var_dict[i].varValue * profit[i] for i in items)), 2))\n"
   ]
  },
  {
   "cell_type": "markdown",
   "id": "c208c887",
   "metadata": {},
   "source": [
    "> It seems like this bakery doesn't have to sell lemon cakes and croissants to stay profitable. But the bakery cannot stop selling them just because so. Therefore, let's add some constraints of minimum quantity for each item to guarantee that customers who love lemon cakes and croissants can still enjoy their favourite product. "
   ]
  },
  {
   "cell_type": "code",
   "execution_count": 8,
   "id": "b4843b02",
   "metadata": {},
   "outputs": [
    {
     "name": "stdout",
     "output_type": "stream",
     "text": [
      "Lemon Cake  =  5\n",
      "Sandwich  =  20\n",
      "Chocolate Cake  =  15\n",
      "Croissant  =  5\n",
      "Chocolate Eclair  =  0\n",
      "Panini  =  0\n",
      "1,100.0\t/1,440\t minutes of bakers used\n",
      "1,675.0\t/2,880\t minutes of oven used\n",
      "240.0\t/240\t minutes of assistant used\n",
      "100.0\t/200\t display slots\n",
      "Profit reached per day: 235 euros\n"
     ]
    }
   ],
   "source": [
    "# 1. Initialize Class\n",
    "model = LpProblem('Maximize Bakery Profits', LpMaximize)\n",
    "\n",
    "# 2. Define Decision Variables\n",
    "A = LpVariable('A', lowBound = 0, cat = 'Integer')\n",
    "B = LpVariable('B', lowBound = 0, cat = 'Integer')\n",
    "C = LpVariable('C', lowBound = 0, cat = 'Integer')\n",
    "D = LpVariable('D', lowBound = 0, cat = 'Integer')\n",
    "E = LpVariable('E', lowBound = 0, cat = 'Integer')\n",
    "F = LpVariable('F', lowBound = 0, cat = 'Integer')\n",
    "var_dict = {'A': A, 'B': B, 'C': C, 'D': D, 'E': E, 'F': F}\n",
    "\n",
    "# 3. Define Objective Function\n",
    "model += lpSum([profit[i] * var_dict[i] for i in items])\n",
    "\n",
    "# 4. Define Constaints\n",
    "# Bakers\n",
    "model += lpSum([var_dict[i] * baker[i] for i in items]) <= 24*60\n",
    "# Oven\n",
    "model += lpSum([var_dict[i] * oven[i] for i in items]) <= 48*60\n",
    "# Assistant\n",
    "model += lpSum([var_dict[i] * assist[i] for i in items]) <= 4*60*1\n",
    "# Display\n",
    "model += lpSum([var_dict[i] * display[i] for i in items]) <= 100\n",
    "# Minimum number of Lemon Cake\n",
    "model += lpSum([var_dict['A']]) == 5\n",
    "# Minimum number of Croissant\n",
    "model += lpSum([var_dict['D']]) == 5\n",
    "\n",
    "# 5. Solve the model\n",
    "dict_name = dict(zip([\"A\", \"B\", \"C\", \"D\", \"E\", \"F\"],\n",
    "                    [\"Lemon Cake\", \"Sandwich\", \"Chocolate Cake\", \"Croissant\", \"Chocolate Eclair\", \"Panini\"]))\n",
    "model.solve()\n",
    "for v in model.variables():\n",
    "    print(dict_name[v.name], \" = \", int(v.varValue))\n",
    "    \n",
    "print(\"{:,}\\t/{:,}\\t minutes of bakers used\".format(sum([var_dict[i].varValue*baker[i] for i in items]), 24*60))\n",
    "print(\"{:,}\\t/{:,}\\t minutes of oven used\".format(sum([var_dict[i].varValue*oven[i] for i in items]), 48*60))\n",
    "print(\"{:,}\\t/{:,}\\t minutes of assistant used\".format(sum([var_dict[i].varValue*assist[i] for i in items]), 4*60))\n",
    "print(\"{:,}\\t/{:,}\\t display slots\".format(sum([var_dict[i].varValue*display[i] for i in items]), 200))\n",
    "print(\"Profit reached per day: {:,} euros\".format(round(sum(var_dict[i].varValue * profit[i] for i in items)), 2))\n"
   ]
  },
  {
   "cell_type": "markdown",
   "id": "2ffa3e03",
   "metadata": {},
   "source": [
    "> By simply adding a few lines of code, we can modify this model to fit the bakery owner's needs. "
   ]
  }
 ],
 "metadata": {
  "kernelspec": {
   "display_name": "Python 3 (ipykernel)",
   "language": "python",
   "name": "python3"
  },
  "language_info": {
   "codemirror_mode": {
    "name": "ipython",
    "version": 3
   },
   "file_extension": ".py",
   "mimetype": "text/x-python",
   "name": "python",
   "nbconvert_exporter": "python",
   "pygments_lexer": "ipython3",
   "version": "3.9.7"
  }
 },
 "nbformat": 4,
 "nbformat_minor": 5
}
