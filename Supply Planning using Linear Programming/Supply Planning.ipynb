{
 "cells": [
  {
   "cell_type": "code",
   "execution_count": 1,
   "id": "9a880aa5",
   "metadata": {},
   "outputs": [],
   "source": [
    "import pandas as pd\n",
    "import matplotlib.pyplot as plt\n",
    "import seaborn as sns\n",
    "from pulp import *\n",
    "import numpy as np\n",
    "np.random.seed(0)"
   ]
  },
  {
   "cell_type": "markdown",
   "id": "a56952f3",
   "metadata": {},
   "source": [
    "### Inbound Costs\n",
    "P is manufacturing plant. <br>D is distribution centre."
   ]
  },
  {
   "cell_type": "code",
   "execution_count": 2,
   "id": "1fd20324",
   "metadata": {},
   "outputs": [
    {
     "data": {
      "text/html": [
       "<div>\n",
       "<style scoped>\n",
       "    .dataframe tbody tr th:only-of-type {\n",
       "        vertical-align: middle;\n",
       "    }\n",
       "\n",
       "    .dataframe tbody tr th {\n",
       "        vertical-align: top;\n",
       "    }\n",
       "\n",
       "    .dataframe thead th {\n",
       "        text-align: right;\n",
       "    }\n",
       "</style>\n",
       "<table border=\"1\" class=\"dataframe\">\n",
       "  <thead>\n",
       "    <tr style=\"text-align: right;\">\n",
       "      <th></th>\n",
       "      <th>FROM</th>\n",
       "      <th>D1</th>\n",
       "      <th>D2</th>\n",
       "    </tr>\n",
       "  </thead>\n",
       "  <tbody>\n",
       "    <tr>\n",
       "      <th>0</th>\n",
       "      <td>P1</td>\n",
       "      <td>3.0</td>\n",
       "      <td>5.0</td>\n",
       "    </tr>\n",
       "    <tr>\n",
       "      <th>1</th>\n",
       "      <td>P2</td>\n",
       "      <td>2.3</td>\n",
       "      <td>6.6</td>\n",
       "    </tr>\n",
       "  </tbody>\n",
       "</table>\n",
       "</div>"
      ],
      "text/plain": [
       "  FROM   D1   D2\n",
       "0   P1  3.0  5.0\n",
       "1   P2  2.3  6.6"
      ]
     },
     "execution_count": 2,
     "metadata": {},
     "output_type": "execute_result"
    }
   ],
   "source": [
    "df_inbound = pd.read_csv('df_inprice.csv', index_col = 0)\n",
    "df_inbound"
   ]
  },
  {
   "cell_type": "markdown",
   "id": "0d38133a",
   "metadata": {},
   "source": [
    "### Outbound Costs\n",
    "S is store."
   ]
  },
  {
   "cell_type": "code",
   "execution_count": 3,
   "id": "2846ed18",
   "metadata": {},
   "outputs": [
    {
     "data": {
      "text/html": [
       "<div>\n",
       "<style scoped>\n",
       "    .dataframe tbody tr th:only-of-type {\n",
       "        vertical-align: middle;\n",
       "    }\n",
       "\n",
       "    .dataframe tbody tr th {\n",
       "        vertical-align: top;\n",
       "    }\n",
       "\n",
       "    .dataframe thead th {\n",
       "        text-align: right;\n",
       "    }\n",
       "</style>\n",
       "<table border=\"1\" class=\"dataframe\">\n",
       "  <thead>\n",
       "    <tr style=\"text-align: right;\">\n",
       "      <th></th>\n",
       "      <th>from</th>\n",
       "      <th>S1</th>\n",
       "      <th>S2</th>\n",
       "      <th>S3</th>\n",
       "      <th>S4</th>\n",
       "      <th>S5</th>\n",
       "      <th>S6</th>\n",
       "      <th>S7</th>\n",
       "      <th>S8</th>\n",
       "      <th>S9</th>\n",
       "      <th>...</th>\n",
       "      <th>S191</th>\n",
       "      <th>S192</th>\n",
       "      <th>S193</th>\n",
       "      <th>S194</th>\n",
       "      <th>S195</th>\n",
       "      <th>S196</th>\n",
       "      <th>S197</th>\n",
       "      <th>S198</th>\n",
       "      <th>S199</th>\n",
       "      <th>S200</th>\n",
       "    </tr>\n",
       "  </thead>\n",
       "  <tbody>\n",
       "    <tr>\n",
       "      <th>0</th>\n",
       "      <td>D1</td>\n",
       "      <td>2.30</td>\n",
       "      <td>4.23</td>\n",
       "      <td>2.26</td>\n",
       "      <td>3.38</td>\n",
       "      <td>1.59</td>\n",
       "      <td>2.01</td>\n",
       "      <td>5.32</td>\n",
       "      <td>6.63</td>\n",
       "      <td>2.38</td>\n",
       "      <td>...</td>\n",
       "      <td>5.86</td>\n",
       "      <td>8.30</td>\n",
       "      <td>3.02</td>\n",
       "      <td>1.01</td>\n",
       "      <td>2.77</td>\n",
       "      <td>2.96</td>\n",
       "      <td>3.53</td>\n",
       "      <td>8.60</td>\n",
       "      <td>2.77</td>\n",
       "      <td>7.06</td>\n",
       "    </tr>\n",
       "    <tr>\n",
       "      <th>1</th>\n",
       "      <td>D2</td>\n",
       "      <td>5.31</td>\n",
       "      <td>2.18</td>\n",
       "      <td>8.52</td>\n",
       "      <td>8.34</td>\n",
       "      <td>4.59</td>\n",
       "      <td>1.04</td>\n",
       "      <td>1.89</td>\n",
       "      <td>6.45</td>\n",
       "      <td>8.35</td>\n",
       "      <td>...</td>\n",
       "      <td>7.54</td>\n",
       "      <td>2.11</td>\n",
       "      <td>4.33</td>\n",
       "      <td>1.54</td>\n",
       "      <td>4.75</td>\n",
       "      <td>7.84</td>\n",
       "      <td>8.21</td>\n",
       "      <td>4.51</td>\n",
       "      <td>3.27</td>\n",
       "      <td>3.13</td>\n",
       "    </tr>\n",
       "  </tbody>\n",
       "</table>\n",
       "<p>2 rows × 201 columns</p>\n",
       "</div>"
      ],
      "text/plain": [
       "  from    S1    S2    S3    S4    S5    S6    S7    S8    S9  ...  S191  S192  \\\n",
       "0   D1  2.30  4.23  2.26  3.38  1.59  2.01  5.32  6.63  2.38  ...  5.86  8.30   \n",
       "1   D2  5.31  2.18  8.52  8.34  4.59  1.04  1.89  6.45  8.35  ...  7.54  2.11   \n",
       "\n",
       "   S193  S194  S195  S196  S197  S198  S199  S200  \n",
       "0  3.02  1.01  2.77  2.96  3.53  8.60  2.77  7.06  \n",
       "1  4.33  1.54  4.75  7.84  8.21  4.51  3.27  3.13  \n",
       "\n",
       "[2 rows x 201 columns]"
      ]
     },
     "execution_count": 3,
     "metadata": {},
     "output_type": "execute_result"
    }
   ],
   "source": [
    "df_outbound = pd.read_csv('df_outprice.csv', index_col = 0)\n",
    "df_outbound"
   ]
  },
  {
   "cell_type": "code",
   "execution_count": 4,
   "id": "f7b83065",
   "metadata": {},
   "outputs": [
    {
     "name": "stdout",
     "output_type": "stream",
     "text": [
      "400 records\n"
     ]
    },
    {
     "data": {
      "text/html": [
       "<div>\n",
       "<style scoped>\n",
       "    .dataframe tbody tr th:only-of-type {\n",
       "        vertical-align: middle;\n",
       "    }\n",
       "\n",
       "    .dataframe tbody tr th {\n",
       "        vertical-align: top;\n",
       "    }\n",
       "\n",
       "    .dataframe thead th {\n",
       "        text-align: right;\n",
       "    }\n",
       "</style>\n",
       "<table border=\"1\" class=\"dataframe\">\n",
       "  <thead>\n",
       "    <tr style=\"text-align: right;\">\n",
       "      <th></th>\n",
       "      <th>index</th>\n",
       "      <th>from</th>\n",
       "      <th>value</th>\n",
       "    </tr>\n",
       "  </thead>\n",
       "  <tbody>\n",
       "    <tr>\n",
       "      <th>0</th>\n",
       "      <td>S1</td>\n",
       "      <td>D1</td>\n",
       "      <td>2.30</td>\n",
       "    </tr>\n",
       "    <tr>\n",
       "      <th>1</th>\n",
       "      <td>S2</td>\n",
       "      <td>D1</td>\n",
       "      <td>4.23</td>\n",
       "    </tr>\n",
       "    <tr>\n",
       "      <th>2</th>\n",
       "      <td>S3</td>\n",
       "      <td>D1</td>\n",
       "      <td>2.26</td>\n",
       "    </tr>\n",
       "    <tr>\n",
       "      <th>3</th>\n",
       "      <td>S4</td>\n",
       "      <td>D1</td>\n",
       "      <td>3.38</td>\n",
       "    </tr>\n",
       "    <tr>\n",
       "      <th>4</th>\n",
       "      <td>S5</td>\n",
       "      <td>D1</td>\n",
       "      <td>1.59</td>\n",
       "    </tr>\n",
       "    <tr>\n",
       "      <th>...</th>\n",
       "      <td>...</td>\n",
       "      <td>...</td>\n",
       "      <td>...</td>\n",
       "    </tr>\n",
       "    <tr>\n",
       "      <th>395</th>\n",
       "      <td>S196</td>\n",
       "      <td>D2</td>\n",
       "      <td>7.84</td>\n",
       "    </tr>\n",
       "    <tr>\n",
       "      <th>396</th>\n",
       "      <td>S197</td>\n",
       "      <td>D2</td>\n",
       "      <td>8.21</td>\n",
       "    </tr>\n",
       "    <tr>\n",
       "      <th>397</th>\n",
       "      <td>S198</td>\n",
       "      <td>D2</td>\n",
       "      <td>4.51</td>\n",
       "    </tr>\n",
       "    <tr>\n",
       "      <th>398</th>\n",
       "      <td>S199</td>\n",
       "      <td>D2</td>\n",
       "      <td>3.27</td>\n",
       "    </tr>\n",
       "    <tr>\n",
       "      <th>399</th>\n",
       "      <td>S200</td>\n",
       "      <td>D2</td>\n",
       "      <td>3.13</td>\n",
       "    </tr>\n",
       "  </tbody>\n",
       "</table>\n",
       "<p>400 rows × 3 columns</p>\n",
       "</div>"
      ],
      "text/plain": [
       "    index from  value\n",
       "0      S1   D1   2.30\n",
       "1      S2   D1   4.23\n",
       "2      S3   D1   2.26\n",
       "3      S4   D1   3.38\n",
       "4      S5   D1   1.59\n",
       "..    ...  ...    ...\n",
       "395  S196   D2   7.84\n",
       "396  S197   D2   8.21\n",
       "397  S198   D2   4.51\n",
       "398  S199   D2   3.27\n",
       "399  S200   D2   3.13\n",
       "\n",
       "[400 rows x 3 columns]"
      ]
     },
     "execution_count": 4,
     "metadata": {},
     "output_type": "execute_result"
    }
   ],
   "source": [
    "# Melting DataFrame\n",
    "df_melt = pd.melt(df_outbound.set_index('from').T.reset_index(), id_vars=['index'], value_vars=['D1', 'D2'])\n",
    "print(\"{:,} records\".format(len(df_melt)))\n",
    "df_melt"
   ]
  },
  {
   "cell_type": "markdown",
   "id": "0304b8e2",
   "metadata": {},
   "source": [
    "### Plot Outbound Transportation Costs BoxPlot"
   ]
  },
  {
   "cell_type": "code",
   "execution_count": 5,
   "id": "42a51757",
   "metadata": {},
   "outputs": [
    {
     "data": {
      "image/png": "[encoded data removed]",
      "text/plain": [
       "<Figure size 432x144 with 1 Axes>"
      ]
     },
     "metadata": {
      "needs_background": "light"
     },
     "output_type": "display_data"
    }
   ],
   "source": [
    "plt.figure(figsize = (6, 2))\n",
    "ax = sns. boxplot(data = df_melt, x = 'value', y = 'from')\n",
    "plt.xlabel('Distribution Centre')\n",
    "plt.ylabel('Outbound Transportation Unit Costs ($/Carton)')\n",
    "plt.show()"
   ]
  },
  {
   "cell_type": "markdown",
   "id": "ff00e62f",
   "metadata": {},
   "source": [
    "### Production Plant Capacity"
   ]
  },
  {
   "cell_type": "code",
   "execution_count": 6,
   "id": "c3eaf047",
   "metadata": {},
   "outputs": [
    {
     "data": {
      "text/html": [
       "<div>\n",
       "<style scoped>\n",
       "    .dataframe tbody tr th:only-of-type {\n",
       "        vertical-align: middle;\n",
       "    }\n",
       "\n",
       "    .dataframe tbody tr th {\n",
       "        vertical-align: top;\n",
       "    }\n",
       "\n",
       "    .dataframe thead th {\n",
       "        text-align: right;\n",
       "    }\n",
       "</style>\n",
       "<table border=\"1\" class=\"dataframe\">\n",
       "  <thead>\n",
       "    <tr style=\"text-align: right;\">\n",
       "      <th></th>\n",
       "      <th>plant</th>\n",
       "      <th>max</th>\n",
       "    </tr>\n",
       "  </thead>\n",
       "  <tbody>\n",
       "    <tr>\n",
       "      <th>0</th>\n",
       "      <td>P1</td>\n",
       "      <td>200</td>\n",
       "    </tr>\n",
       "    <tr>\n",
       "      <th>1</th>\n",
       "      <td>P2</td>\n",
       "      <td>300</td>\n",
       "    </tr>\n",
       "  </tbody>\n",
       "</table>\n",
       "</div>"
      ],
      "text/plain": [
       "  plant  max\n",
       "0    P1  200\n",
       "1    P2  300"
      ]
     },
     "execution_count": 6,
     "metadata": {},
     "output_type": "execute_result"
    }
   ],
   "source": [
    "df_prod = pd.DataFrame({\n",
    "    'plant': ['P1','P2'],\n",
    "    'max': [200, 300],\n",
    "})[['plant', 'max']]\n",
    "df_prod"
   ]
  },
  {
   "cell_type": "markdown",
   "id": "2c5ea65a",
   "metadata": {},
   "source": [
    "### Distribution Centre docking capacity"
   ]
  },
  {
   "cell_type": "code",
   "execution_count": 7,
   "id": "b5b0fd89",
   "metadata": {},
   "outputs": [
    {
     "data": {
      "text/html": [
       "<div>\n",
       "<style scoped>\n",
       "    .dataframe tbody tr th:only-of-type {\n",
       "        vertical-align: middle;\n",
       "    }\n",
       "\n",
       "    .dataframe tbody tr th {\n",
       "        vertical-align: top;\n",
       "    }\n",
       "\n",
       "    .dataframe thead th {\n",
       "        text-align: right;\n",
       "    }\n",
       "</style>\n",
       "<table border=\"1\" class=\"dataframe\">\n",
       "  <thead>\n",
       "    <tr style=\"text-align: right;\">\n",
       "      <th></th>\n",
       "      <th>DC</th>\n",
       "      <th>CAPACITY</th>\n",
       "    </tr>\n",
       "  </thead>\n",
       "  <tbody>\n",
       "    <tr>\n",
       "      <th>0</th>\n",
       "      <td>D1</td>\n",
       "      <td>450</td>\n",
       "    </tr>\n",
       "    <tr>\n",
       "      <th>1</th>\n",
       "      <td>D2</td>\n",
       "      <td>300</td>\n",
       "    </tr>\n",
       "  </tbody>\n",
       "</table>\n",
       "</div>"
      ],
      "text/plain": [
       "   DC  CAPACITY\n",
       "0  D1       450\n",
       "1  D2       300"
      ]
     },
     "execution_count": 7,
     "metadata": {},
     "output_type": "execute_result"
    }
   ],
   "source": [
    "# Cross-Docking Capacity\n",
    "df_t = pd.DataFrame({\n",
    "    'DC': ['D1','D2'],\n",
    "    'CAPACITY': [450, 300]\n",
    "})[['DC', 'CAPACITY']]\n",
    "df_t"
   ]
  },
  {
   "cell_type": "markdown",
   "id": "4becd910",
   "metadata": {},
   "source": [
    "### Demand Data"
   ]
  },
  {
   "cell_type": "code",
   "execution_count": 8,
   "id": "413c839e",
   "metadata": {},
   "outputs": [
    {
     "name": "stdout",
     "output_type": "stream",
     "text": [
      "31,806 total demand\n"
     ]
    },
    {
     "data": {
      "text/html": [
       "<div>\n",
       "<style scoped>\n",
       "    .dataframe tbody tr th:only-of-type {\n",
       "        vertical-align: middle;\n",
       "    }\n",
       "\n",
       "    .dataframe tbody tr th {\n",
       "        vertical-align: top;\n",
       "    }\n",
       "\n",
       "    .dataframe thead th {\n",
       "        text-align: right;\n",
       "    }\n",
       "</style>\n",
       "<table border=\"1\" class=\"dataframe\">\n",
       "  <thead>\n",
       "    <tr style=\"text-align: right;\">\n",
       "      <th></th>\n",
       "      <th>STORE</th>\n",
       "      <th>DEMAND</th>\n",
       "    </tr>\n",
       "  </thead>\n",
       "  <tbody>\n",
       "    <tr>\n",
       "      <th>0</th>\n",
       "      <td>D1</td>\n",
       "      <td>244</td>\n",
       "    </tr>\n",
       "    <tr>\n",
       "      <th>1</th>\n",
       "      <td>D2</td>\n",
       "      <td>172</td>\n",
       "    </tr>\n",
       "    <tr>\n",
       "      <th>2</th>\n",
       "      <td>D3</td>\n",
       "      <td>124</td>\n",
       "    </tr>\n",
       "    <tr>\n",
       "      <th>3</th>\n",
       "      <td>D4</td>\n",
       "      <td>90</td>\n",
       "    </tr>\n",
       "    <tr>\n",
       "      <th>4</th>\n",
       "      <td>D5</td>\n",
       "      <td>158</td>\n",
       "    </tr>\n",
       "  </tbody>\n",
       "</table>\n",
       "</div>"
      ],
      "text/plain": [
       "  STORE  DEMAND\n",
       "0    D1     244\n",
       "1    D2     172\n",
       "2    D3     124\n",
       "3    D4      90\n",
       "4    D5     158"
      ]
     },
     "execution_count": 8,
     "metadata": {},
     "output_type": "execute_result"
    }
   ],
   "source": [
    "df_demand = pd.read_csv('df_demand.csv', index_col = 0)\n",
    "print(\"{:,} total demand\".format(df_demand.DEMAND.sum()))\n",
    "df_demand.head()"
   ]
  },
  {
   "cell_type": "markdown",
   "id": "e7e56283",
   "metadata": {},
   "source": [
    "### Build the Optimization Model\n"
   ]
  },
  {
   "cell_type": "markdown",
   "id": "e07c54d2",
   "metadata": {},
   "source": [
    "#### 1. Declare decision variables"
   ]
  },
  {
   "cell_type": "code",
   "execution_count": 9,
   "id": "8279abf5",
   "metadata": {},
   "outputs": [],
   "source": [
    "model = LpProblem(\"Transhipment_Problem\", LpMinimize)\n",
    "# Inbound Flows\n",
    "# I(i,j) from plant i for platform j\n",
    "I = LpVariable.dicts(\"I\", [(i+1,j+1) for i in range(2) for j in range(2)],\n",
    "                     lowBound=0, upBound=None, cat='Integer') \n",
    "# Outbound Flows\n",
    "# O(i,j) from platform i for customer j\n",
    "O = LpVariable.dicts(\"O\", [(i+1,j+1) for i in range(2) for j in range(200)],\n",
    "                     lowBound=0, upBound=None, cat='Integer') "
   ]
  },
  {
   "cell_type": "markdown",
   "id": "0b551fc9",
   "metadata": {},
   "source": [
    "#### 2. Declare objective function: total cost for transportation\n",
    "> $\n",
    "TC = \\sum \\limits _{n=1}^{n=2} \\sum \\limits _{p=1}^{p=2}\n",
    "IC_{n,p} * I_{n,p} +\n",
    "\\sum \\limits _{n=1}^{n=2} \\sum \\limits _{p=1}^{p=200}\n",
    "OC_{n,p} * O_{n,p}\n",
    "$\n",
    "\n",
    "We want to minimize the inbound and outbound transportation costs."
   ]
  },
  {
   "cell_type": "code",
   "execution_count": 10,
   "id": "5027cf3b",
   "metadata": {},
   "outputs": [],
   "source": [
    "model += lpSum([df_inbound.iloc[i,j+1] * I[i+1,j+1] for i in range(2) for j in range(2)]) + lpSum([df_outbound.iloc[i,j+1] * O[i+1,j+1] for i in range(2) for j in range(200)]) "
   ]
  },
  {
   "cell_type": "markdown",
   "id": "0e18170e",
   "metadata": {},
   "source": [
    "#### 3. Define the constraints: Total shipped from the 2 DCs higher than the demand\n",
    "What are the limits in resources that will determine the feasibility in the region?\n",
    "#### The supply from DCs needs to meet the demand per store.\n",
    "> $\n",
    "\\forall p \\in [1, 200] \n",
    "$\n",
    "<br>\n",
    "<br>\n",
    "$\n",
    "\\sum \\limits _{n=1}^{n=2} O_{n,p} \\geq D _{p}\n",
    "$\n",
    "\n",
    "#### Total conservation of the flow.\n",
    "> $\n",
    "\\forall p \\in [1, 2] \n",
    "$\n",
    "<br>\n",
    "<br>\n",
    "$\n",
    "\\sum \\limits _{n=1}^{n=2} I_{n,p} = \\sum \\limits _{n=1}^{n=200} O_{n,p}\n",
    "$"
   ]
  },
  {
   "cell_type": "code",
   "execution_count": 11,
   "id": "fb22ab78",
   "metadata": {},
   "outputs": [],
   "source": [
    "# Supply >= demand per store\n",
    "for j in range(200):\n",
    "    model += lpSum([O[i+1, j+1] for i in range(2)]) == df_demand.loc[j, 'DEMAND']\n",
    "\n",
    "# Conservation of the flow in the local DC \n",
    "for p in range(2):\n",
    "    model += lpSum([I[i+1, p+1] for i in range(2)]) == lpSum([O[p+1, j+1] for j in range (200)])"
   ]
  },
  {
   "cell_type": "markdown",
   "id": "c0453e77",
   "metadata": {},
   "source": [
    "#### 4. Solve the model and analyse"
   ]
  },
  {
   "cell_type": "code",
   "execution_count": 12,
   "id": "bbdd1692",
   "metadata": {},
   "outputs": [
    {
     "name": "stdout",
     "output_type": "stream",
     "text": [
      "Optimal\n",
      "Objective: z* = 217189.3199999999\n"
     ]
    }
   ],
   "source": [
    "status = model.solve()\n",
    "print(LpStatus[status])\n",
    "print(\"Objective: z* = {}\".format(\n",
    "    value(model.objective)))"
   ]
  },
  {
   "cell_type": "code",
   "execution_count": 13,
   "id": "8e57dd16",
   "metadata": {},
   "outputs": [],
   "source": [
    "inbound, outbound = np.zeros([2,2]), np.zeros([2,200])\n",
    "for i in range(2):\n",
    "    for j in range(2):\n",
    "        inbound[i, j] = I[i+1, j+1].varValue\n",
    "\n",
    "for i in range(2):\n",
    "    for j in range(200):\n",
    "        outbound[i, j] = O[i+1, j+1].varValue"
   ]
  },
  {
   "cell_type": "markdown",
   "id": "270bf3d7",
   "metadata": {},
   "source": [
    "#### Results"
   ]
  },
  {
   "cell_type": "code",
   "execution_count": 14,
   "id": "2f322ba9",
   "metadata": {},
   "outputs": [
    {
     "data": {
      "text/html": [
       "<div>\n",
       "<style scoped>\n",
       "    .dataframe tbody tr th:only-of-type {\n",
       "        vertical-align: middle;\n",
       "    }\n",
       "\n",
       "    .dataframe tbody tr th {\n",
       "        vertical-align: top;\n",
       "    }\n",
       "\n",
       "    .dataframe thead th {\n",
       "        text-align: right;\n",
       "    }\n",
       "</style>\n",
       "<table border=\"1\" class=\"dataframe\">\n",
       "  <thead>\n",
       "    <tr style=\"text-align: right;\">\n",
       "      <th></th>\n",
       "      <th>D1</th>\n",
       "      <th>D2</th>\n",
       "    </tr>\n",
       "  </thead>\n",
       "  <tbody>\n",
       "    <tr>\n",
       "      <th>P1</th>\n",
       "      <td>0</td>\n",
       "      <td>6232</td>\n",
       "    </tr>\n",
       "    <tr>\n",
       "      <th>P2</th>\n",
       "      <td>25574</td>\n",
       "      <td>0</td>\n",
       "    </tr>\n",
       "  </tbody>\n",
       "</table>\n",
       "</div>"
      ],
      "text/plain": [
       "       D1    D2\n",
       "P1      0  6232\n",
       "P2  25574     0"
      ]
     },
     "execution_count": 14,
     "metadata": {},
     "output_type": "execute_result"
    }
   ],
   "source": [
    "df_resin = pd.DataFrame(data = inbound, index =['P' + str(i+1) for i in range(2)], \n",
    "                        columns = ['D' + str(i+1) for i in range(2)]).astype(int)\n",
    "df_resin\n"
   ]
  },
  {
   "cell_type": "code",
   "execution_count": 15,
   "id": "61a574ea",
   "metadata": {},
   "outputs": [
    {
     "data": {
      "text/html": [
       "<div>\n",
       "<style scoped>\n",
       "    .dataframe tbody tr th:only-of-type {\n",
       "        vertical-align: middle;\n",
       "    }\n",
       "\n",
       "    .dataframe tbody tr th {\n",
       "        vertical-align: top;\n",
       "    }\n",
       "\n",
       "    .dataframe thead th {\n",
       "        text-align: right;\n",
       "    }\n",
       "</style>\n",
       "<table border=\"1\" class=\"dataframe\">\n",
       "  <thead>\n",
       "    <tr style=\"text-align: right;\">\n",
       "      <th></th>\n",
       "      <th>D1</th>\n",
       "      <th>D2</th>\n",
       "    </tr>\n",
       "  </thead>\n",
       "  <tbody>\n",
       "    <tr>\n",
       "      <th>S1</th>\n",
       "      <td>244.0</td>\n",
       "      <td>0.0</td>\n",
       "    </tr>\n",
       "    <tr>\n",
       "      <th>S2</th>\n",
       "      <td>172.0</td>\n",
       "      <td>0.0</td>\n",
       "    </tr>\n",
       "    <tr>\n",
       "      <th>S3</th>\n",
       "      <td>124.0</td>\n",
       "      <td>0.0</td>\n",
       "    </tr>\n",
       "    <tr>\n",
       "      <th>S4</th>\n",
       "      <td>90.0</td>\n",
       "      <td>0.0</td>\n",
       "    </tr>\n",
       "    <tr>\n",
       "      <th>S5</th>\n",
       "      <td>158.0</td>\n",
       "      <td>0.0</td>\n",
       "    </tr>\n",
       "    <tr>\n",
       "      <th>...</th>\n",
       "      <td>...</td>\n",
       "      <td>...</td>\n",
       "    </tr>\n",
       "    <tr>\n",
       "      <th>S196</th>\n",
       "      <td>57.0</td>\n",
       "      <td>0.0</td>\n",
       "    </tr>\n",
       "    <tr>\n",
       "      <th>S197</th>\n",
       "      <td>52.0</td>\n",
       "      <td>0.0</td>\n",
       "    </tr>\n",
       "    <tr>\n",
       "      <th>S198</th>\n",
       "      <td>0.0</td>\n",
       "      <td>243.0</td>\n",
       "    </tr>\n",
       "    <tr>\n",
       "      <th>S199</th>\n",
       "      <td>70.0</td>\n",
       "      <td>0.0</td>\n",
       "    </tr>\n",
       "    <tr>\n",
       "      <th>S200</th>\n",
       "      <td>0.0</td>\n",
       "      <td>50.0</td>\n",
       "    </tr>\n",
       "  </tbody>\n",
       "</table>\n",
       "<p>200 rows × 2 columns</p>\n",
       "</div>"
      ],
      "text/plain": [
       "         D1     D2\n",
       "S1    244.0    0.0\n",
       "S2    172.0    0.0\n",
       "S3    124.0    0.0\n",
       "S4     90.0    0.0\n",
       "S5    158.0    0.0\n",
       "...     ...    ...\n",
       "S196   57.0    0.0\n",
       "S197   52.0    0.0\n",
       "S198    0.0  243.0\n",
       "S199   70.0    0.0\n",
       "S200    0.0   50.0\n",
       "\n",
       "[200 rows x 2 columns]"
      ]
     },
     "execution_count": 15,
     "metadata": {},
     "output_type": "execute_result"
    }
   ],
   "source": [
    "df_resout = pd.DataFrame(data = outbound, index =['D' + str(i+1) for i in range(2)], \n",
    "                        columns = ['S' + str(i+1) for i in range(200)])\n",
    "df_resout.T"
   ]
  },
  {
   "cell_type": "markdown",
   "id": "bc504d0d",
   "metadata": {},
   "source": [
    "The model takes the cheapest route for Inbound by linking P2 with D1.\n",
    "<br><br>\n",
    "As expected, more than 90% of the Outbound is going through D1 to minimize Outbound Costs.\n",
    "\n",
    "---\n",
    "### Conclusion \n",
    "This methodology gives us the possibility to perform large scale optimization by implementing simple rules. We can improve the model by adding operational constraints:\n",
    "- production costs in plants\n",
    "- maximal docking capacity in DCs\n",
    "- fixed/variable costs structure in DSs\n",
    "- fixed + variable transportation costs structure y = (Ax+b)\n",
    "Sadly, linear programming cannot do so as those constraints are non-linear."
   ]
  }
 ],
 "metadata": {
  "kernelspec": {
   "display_name": "Python 3 (ipykernel)",
   "language": "python",
   "name": "python3"
  },
  "language_info": {
   "codemirror_mode": {
    "name": "ipython",
    "version": 3
   },
   "file_extension": ".py",
   "mimetype": "text/x-python",
   "name": "python",
   "nbconvert_exporter": "python",
   "pygments_lexer": "ipython3",
   "version": "3.9.7"
  }
 },
 "nbformat": 4,
 "nbformat_minor": 5
}
