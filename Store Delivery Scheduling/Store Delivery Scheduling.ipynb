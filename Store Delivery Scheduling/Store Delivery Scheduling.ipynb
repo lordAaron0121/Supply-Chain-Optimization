{
 "cells": [
  {
   "cell_type": "markdown",
   "id": "c10e2f25",
   "metadata": {},
   "source": [
    "### Replenishment method 1: Full Storage Capacity\n",
    "On Day n-1: \n",
    "- input inventory on day n-1\n",
    "- order quantity to reach max capacity"
   ]
  },
  {
   "cell_type": "code",
   "execution_count": 1,
   "id": "94a8b965",
   "metadata": {},
   "outputs": [],
   "source": [
    "# Initiate inventory records\n",
    "def inventory_init(df, capacity_n, dict_cap, list_dates, n_day_start):\n",
    "    # Create first column with max capacity\n",
    "    df_inv = pd.DataFrame((df.groupby(['store', 'item'])['sales'].max() // 50 + capacity_n - 1) * 50)\n",
    "    df_inv.columns = ['capacity']\n",
    "    df_inv = df_inv.reset_index()\n",
    "    \n",
    "    # Inventory Day 1\n",
    "    df_inv[list_dates[n_day_start - 1]] = df_inv['capacity']\n",
    "    df_inv = df_inv.set_index(['store', 'item']).T\n",
    "    \n",
    "    return df_inv"
   ]
  },
  {
   "cell_type": "code",
   "execution_count": 2,
   "id": "687dd5d8",
   "metadata": {},
   "outputs": [],
   "source": [
    "# Create DataFrame of storage capacity per item\n",
    "def capacity_df(df, capacity_n):\n",
    "    # Capacity DataFrame = n times maximum sales\n",
    "    df_cap = pd.DataFrame(df.groupby(['item'])['sales'].max())\n",
    "    # Name the column\n",
    "    df_cap.columns = ['sales_max']\n",
    "    df_cap['capacity'] = (df_cap['sales_max'] // 50 + capacity_n - 1) * 50\n",
    "    \n",
    "    # Dictionary \n",
    "    dict_cap = dict(zip(df_cap.index.values, df_cap.capacity.values))\n",
    "    df_cap = df_cap.reset_index().set_index(['item', 'sales_max'])\n",
    "    return df_cap, dict_cap"
   ]
  },
  {
   "cell_type": "code",
   "execution_count": 3,
   "id": "f81bca6c",
   "metadata": {
    "collapsed": true
   },
   "outputs": [
    {
     "ename": "NameError",
     "evalue": "name 'df_xgb' is not defined",
     "output_type": "error",
     "traceback": [
      "\u001b[1;31m---------------------------------------------------------------------------\u001b[0m",
      "\u001b[1;31mNameError\u001b[0m                                 Traceback (most recent call last)",
      "\u001b[1;32m~\\AppData\\Local\\Temp/ipykernel_23348/2032742113.py\u001b[0m in \u001b[0;36m<module>\u001b[1;34m\u001b[0m\n\u001b[0;32m      2\u001b[0m \u001b[0mcapacity_n\u001b[0m \u001b[1;33m=\u001b[0m \u001b[1;36m10\u001b[0m\u001b[1;33m\u001b[0m\u001b[1;33m\u001b[0m\u001b[0m\n\u001b[0;32m      3\u001b[0m \u001b[0mrolling_ndays\u001b[0m \u001b[1;33m=\u001b[0m \u001b[1;36m8\u001b[0m\u001b[1;33m\u001b[0m\u001b[1;33m\u001b[0m\u001b[0m\n\u001b[1;32m----> 4\u001b[1;33m \u001b[0mdf_cap\u001b[0m\u001b[1;33m,\u001b[0m \u001b[0mdictcap\u001b[0m \u001b[1;33m=\u001b[0m \u001b[0mcapacity_df\u001b[0m\u001b[1;33m(\u001b[0m\u001b[0mdf_xgb\u001b[0m\u001b[1;33m,\u001b[0m \u001b[0mcapacity_n\u001b[0m\u001b[1;33m)\u001b[0m\u001b[1;33m\u001b[0m\u001b[1;33m\u001b[0m\u001b[0m\n\u001b[0m\u001b[0;32m      5\u001b[0m \u001b[1;33m\u001b[0m\u001b[0m\n\u001b[0;32m      6\u001b[0m \u001b[1;31m# Inventory Records\u001b[0m\u001b[1;33m\u001b[0m\u001b[1;33m\u001b[0m\u001b[0m\n",
      "\u001b[1;31mNameError\u001b[0m: name 'df_xgb' is not defined"
     ]
    }
   ],
   "source": [
    "# Capacity per item\n",
    "capacity_n = 10\n",
    "rolling_ndays = 8\n",
    "df_cap, dictcap = capacity_df(df_xgb, capacity_n)\n",
    "\n",
    "# Inventory Records\n",
    "df_inv = inventorya_init(df_xgb, capacity_n, dict_cap, list_dates, rolling_ndays)\n",
    "\n",
    "# Forecasts DataFrames\n",
    "df_roll, df_ft_n, df_rm_n = roll_ft_df(df_sales, df_fcst, 8, frcst_n_days)\n",
    "\n",
    "# Replenishment days\n",
    "days_reappro = ['Monday', 'Wednesday', 'Friday', 'Sunday']\n",
    "df_xgb['replen'] = df_xgb.jour.map(lambda t: t in days_reappro)\n",
    "\n",
    "# Dictionary with date: replenishment_bool\n",
    "dict_rep = dict(zip(df_xgb.date.dt.date.values, df_xgb.replen.values))\n",
    "\n",
    "# Create DataFrames to track replenishment\n",
    "# Inventory Records per day at each step: Sales Reduction, Replenishment\n",
    "df_invday = df_inv.copy()\n",
    "# Inventory is PositiveA: After sales reduction >= 0\n",
    "df_invpos = df_inv.copy()*0\n",
    "# Replenishment record per day: Replenishment_Qty = capacity - inventory level\n",
    "df_repm1 = df_inv.copy()\n",
    "\n",
    "df_inv.head()"
   ]
  },
  {
   "cell_type": "markdown",
   "id": "3d2803be",
   "metadata": {},
   "source": [
    "### Method 1\n",
    "Demand = max capacity - day n-1 inventory (9 PM)"
   ]
  },
  {
   "cell_type": "code",
   "execution_count": 4,
   "id": "966aee69",
   "metadata": {},
   "outputs": [],
   "source": [
    "def rep_m1(df_repm1, n_day, df_invday, dict_rep, list_dates):\n",
    "    # Calculate Replenishment Qty\n",
    "    if (dict_rep[list_dates[n_day - 1]] == True):\n",
    "        df_repm1.loc[list_dates[n_day - 1]] = (df_invday.loc['capacity']) - (df_invday.loc[list_dates[n_day-1]])\n",
    "    else:\n",
    "        df_repm1.loc[list_dates[n_day - 1]] = 0\n",
    "        \n",
    "    # Apply replenishment qty to inventory\n",
    "    df_invday.loc[list_dates[n_day - 1]] = df_invday.loc[list_dates[n_day-1]] + df_repm1.loc[list_dates[n_day-1]]\n",
    "    \n",
    "    return df_repm1, df_invday\n",
    "    "
   ]
  },
  {
   "cell_type": "markdown",
   "id": "073ecb5a",
   "metadata": {},
   "source": [
    "### Run simulation by day"
   ]
  },
  {
   "cell_type": "code",
   "execution_count": 5,
   "id": "622c302b",
   "metadata": {},
   "outputs": [],
   "source": [
    "def simul_rem1(rolling_ndays, days, list_dates, dict_rep, df_invday, df_sales, df_repm1, df_invpos):\n",
    "    \n",
    "    # First for n_day = 1\n",
    "    n_day = rolling_ndays\n",
    "    \n",
    "    # Sales Substraction: Inventory = Inventory - Sales\n",
    "    df_invday.loc[list_dates[n_day-1]] = df_invday.loc[list_dates[n_day-1]]  - df_sales.loc[list_dates[n_day-1]]\n",
    "    \n",
    "    # Replenishment Method 1: Replenish to Capacity \n",
    "    df_repm1.loc[list_dates[n_day-1]] = df_invday.loc['capacity']  - df_invday.loc[list_dates[n_day-1]]\n",
    "    df_invday.loc[list_dates[n_day-1]] = df_invday.loc[list_dates[n_day-1]] + df_repm1.loc[list_dates[n_day-1]]\n",
    "    \n",
    "    # Is Inventory Positive after Sales Reduction ? [1: True, 0: False]\n",
    "    df_invpos.loc[list_dates[n_day-1]] = (df_invday.loc[list_dates[n_day-1]] < 0) * 1\n",
    "    \n",
    "    for n_day in range(rolling_ndays + 1, days + rolling_ndays): #len(list_dates) +1\n",
    "        # Sales Reduction: Inventory = Inventory - Sales\n",
    "        df_invday = sales_reduction(df_invday, df_sales, n_day, list_dates)\n",
    "\n",
    "        # Replenishment Method 1: Replenish to Capacity \n",
    "        df_repm1, df_invday = rep_m1(df_repm1, n_day, df_invday, dict_rep, list_dates)\n",
    "\n",
    "        # Is Inventory Positive after Sales Reduction ? [1: True, 0: False]\n",
    "        df_invpos = inv_pos(df_invpos, df_invday, n_day, list_dates)\n",
    "    \n",
    "    # Calculate Inventory level \n",
    "    df_invday['total_inv'] = df_invday.sum(axis = 1)\n",
    "    df_invday['%total_inv'] = (100*df_invday.iloc[1:, -1].div(df_invday.iloc[0, -1])).round(2)\n",
    "    return df_invday, df_repm1"
   ]
  },
  {
   "cell_type": "code",
   "execution_count": null,
   "id": "9c5bad7a",
   "metadata": {},
   "outputs": [],
   "source": []
  },
  {
   "cell_type": "code",
   "execution_count": null,
   "id": "f105f4c8",
   "metadata": {},
   "outputs": [],
   "source": []
  }
 ],
 "metadata": {
  "kernelspec": {
   "display_name": "Python 3 (ipykernel)",
   "language": "python",
   "name": "python3"
  },
  "language_info": {
   "codemirror_mode": {
    "name": "ipython",
    "version": 3
   },
   "file_extension": ".py",
   "mimetype": "text/x-python",
   "name": "python",
   "nbconvert_exporter": "python",
   "pygments_lexer": "ipython3",
   "version": "3.9.7"
  }
 },
 "nbformat": 4,
 "nbformat_minor": 5
}
